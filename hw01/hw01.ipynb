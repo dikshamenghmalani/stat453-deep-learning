{
  "cells": [
    {
      "cell_type": "markdown",
      "metadata": {
        "id": "view-in-github",
        "colab_type": "text"
      },
      "source": [
        "<a href=\"https://colab.research.google.com/github/dikshamenghmalani/stat453-deep-learning/blob/master/hw01/hw01.ipynb\" target=\"_parent\"><img src=\"https://colab.research.google.com/assets/colab-badge.svg\" alt=\"Open In Colab\"/></a>"
      ]
    },
    {
      "cell_type": "markdown",
      "metadata": {
        "id": "Kk1ScxiChOB1"
      },
      "source": [
        "**STAT 453: Introduction to Deep Learning and Generative Models (Spring 2025)**\n",
        "\n",
        "Instructor: Yiqiao Zhong (yiqiao.zhong@wisc.edu)\n",
        "\n",
        "Useful resources from previous years:\n",
        "\n",
        "Course website http://pages.stat.wisc.edu/~sraschka/teaching/stat453-ss2020/  \n",
        "\n",
        "GitHub repository https://github.com/rasbt/stat453-deep-learning-ss20"
      ]
    },
    {
      "cell_type": "code",
      "execution_count": null,
      "metadata": {
        "id": "wH9oxfx6hOB4"
      },
      "outputs": [],
      "source": []
    },
    {
      "cell_type": "markdown",
      "metadata": {
        "id": "pJue1mdchOB5"
      },
      "source": [
        "# HW 1: Implementing the Perceptron Algorithm in \"Just\" Python (50 pts)"
      ]
    },
    {
      "cell_type": "markdown",
      "metadata": {
        "id": "d9tIEpuyhOB5"
      },
      "source": [
        "In this homework assignment, you are asked to implement the classic Perceptron by Frank Rosenblatt for binary classification (here: 0/1 class labels), which we have discussed in the lecture.\n",
        "\n",
        "In particular, you should only use \"basic\" or \"vanilla\" Python functions for this implementation. Hence, no `import`s from PyTorch or NumPy will be permitted for this homework.\n",
        "\n",
        "The goal of this exercise is to familiarize yourself with Python implementation that we discussed in class. Hence, you may wish to explore the code from the lecture further when you implement the Perceptron in \"pure\" Python. Note that you are also asked to use the overall structure of the `Perceptron` Python `class`. While it may seem strange to you at first, it will be useful later when will discuss PyTorch for deep learning. The way PyTorch works is similar to this class (i.e., using a model `class` with `forward` and `backward` methods).\n",
        "\n",
        "A good portion of the code is already written which you don't need to change. However, you are encouraged to read and understand the functionalities so that you will be able to write complete code later."
      ]
    },
    {
      "cell_type": "markdown",
      "metadata": {
        "id": "p8SzQtbWhOB6"
      },
      "source": [
        "### Important!"
      ]
    },
    {
      "cell_type": "markdown",
      "metadata": {
        "id": "j08f0rQihOB6"
      },
      "source": [
        "**The homework assignment should be submitted via Canvas.**\n",
        "\n",
        "- Please submit the `.ipynb` file with your solution as well as an HTML version (use `File -> export as -> HTML`) as a backup in case we cannot open your .ipynb on our computer.\n",
        "\n",
        "- I recommend using the conda package manager for installing Python 3.7 or higher versions and Jupyter Notebook (or Jupyter Lab). You may find the lecture notes from a machine learning class (https://github.com/rasbt/stat479-machine-learning-fs19/blob/master/03_python/03-python__notes.pdf, Section 3) helpful.\n",
        "\n",
        "- Also consider this YouTube tutorial for a more visual setup guide for conda: https://www.youtube.com/watch?v=YJC6ldI3hWk (Python Tutorial: Anaconda - Installation and Using Conda). Please reach out to the TA or me if you need any help of have questions.\n"
      ]
    },
    {
      "cell_type": "markdown",
      "metadata": {
        "id": "pGaoHbGThOB7"
      },
      "source": [
        "## 0) Imports"
      ]
    },
    {
      "cell_type": "markdown",
      "metadata": {
        "id": "OHOGObDghOB7"
      },
      "source": [
        "**No modification required.** You should execute this code and are encouraged to explore it further, but it is recommended to  not make any alterations here."
      ]
    },
    {
      "cell_type": "code",
      "execution_count": 1,
      "metadata": {
        "id": "l6nqQWDDhOB7"
      },
      "outputs": [],
      "source": [
        "import matplotlib.pyplot as plt\n",
        "%matplotlib inline"
      ]
    },
    {
      "cell_type": "code",
      "source": [
        "from google.colab import drive\n",
        "drive.mount('/content/drive')"
      ],
      "metadata": {
        "colab": {
          "base_uri": "https://localhost:8080/"
        },
        "id": "Cbt1T9Xnh06P",
        "outputId": "7c0a769b-d975-4ab8-c14e-4679ea95ad2b"
      },
      "execution_count": 2,
      "outputs": [
        {
          "output_type": "stream",
          "name": "stdout",
          "text": [
            "Mounted at /content/drive\n"
          ]
        }
      ]
    },
    {
      "cell_type": "markdown",
      "metadata": {
        "id": "YaMpcZTDhOB8"
      },
      "source": [
        "## 1) Loading the dataset"
      ]
    },
    {
      "cell_type": "markdown",
      "metadata": {
        "id": "deR6I7FAhOB8"
      },
      "source": [
        "**No modification required.** You should execute this code and are encouraged to explore it further, but it is recommended to  not make any alterations here."
      ]
    },
    {
      "cell_type": "code",
      "execution_count": 3,
      "metadata": {
        "colab": {
          "base_uri": "https://localhost:8080/"
        },
        "id": "LKSFb1IfhOB8",
        "outputId": "652b713f-0cbd-46c9-b4e1-46b47eb0d833"
      },
      "outputs": [
        {
          "output_type": "stream",
          "name": "stdout",
          "text": [
            "100 100\n"
          ]
        }
      ],
      "source": [
        "X, y = [], []\n",
        "\n",
        "with open('/content/drive/MyDrive/Stat 453 Assignments/hw01/dataset.csv', 'r') as f:\n",
        "    next(f)\n",
        "    for line in f:\n",
        "        line = line.strip()\n",
        "        if line:\n",
        "            values = line.split(',')\n",
        "        else:\n",
        "            continue\n",
        "        X.append([float(i) for i in values[:2]])\n",
        "        y.append(int(values[-1]))\n",
        "\n",
        "print(len(X), len(y))"
      ]
    },
    {
      "cell_type": "code",
      "execution_count": 4,
      "metadata": {
        "id": "y7I6uPfzhOB9"
      },
      "outputs": [],
      "source": [
        "import random\n",
        "\n",
        "\n",
        "random.seed(123)\n",
        "\n",
        "idx = list(range(len(X)))\n",
        "random.shuffle(idx)\n",
        "\n",
        "X_train = [X[i] for i in idx[:80]]\n",
        "y_train = [y[i] for i in idx[:80]]\n",
        "X_test = [X[i] for i in idx[80:]]\n",
        "y_test = [y[i] for i in idx[80:]]"
      ]
    },
    {
      "cell_type": "code",
      "execution_count": 5,
      "metadata": {
        "colab": {
          "base_uri": "https://localhost:8080/",
          "height": 472
        },
        "id": "mfaVKc7shOB9",
        "outputId": "bee08312-ae15-4471-824e-02ccbb728b0f"
      },
      "outputs": [
        {
          "output_type": "display_data",
          "data": {
            "text/plain": [
              "<Figure size 640x480 with 1 Axes>"
            ],
            "image/png": "[encoded data removed]"
          },
          "metadata": {}
        }
      ],
      "source": [
        "plt.scatter([i[0] for idx, i in enumerate(X_train) if y_train[idx] == 0],\n",
        "            [i[1] for idx, i in enumerate(X_train) if y_train[idx] == 0],\n",
        "            label='class 0', marker='o')\n",
        "\n",
        "plt.scatter([i[0] for idx, i in enumerate(X_train) if y_train[idx] == 1],\n",
        "            [i[1] for idx, i in enumerate(X_train) if y_train[idx] == 1],\n",
        "            label='class 1', marker='s')\n",
        "\n",
        "plt.title('Training set')\n",
        "plt.xlabel('feature 1')\n",
        "plt.ylabel('feature 2')\n",
        "plt.xlim([0.0, 7])\n",
        "plt.ylim([-0.8, 0.8])\n",
        "plt.legend()\n",
        "plt.show()"
      ]
    },
    {
      "cell_type": "markdown",
      "metadata": {
        "id": "D0uUwxf9hOB9"
      },
      "source": [
        "## Defining the Perceptron model"
      ]
    },
    {
      "cell_type": "markdown",
      "metadata": {
        "id": "ND-y2_J-hOB9"
      },
      "source": [
        "Below, you need to complete the code of the Perceptron model class based on the framework I provided."
      ]
    },
    {
      "cell_type": "code",
      "source": [
        "class Perceptron:\n",
        "  def __init__(self, num_features):\n",
        "    self.weights = [0.0] * num_features\n",
        "    self.bias = 0.0\n",
        "\n",
        "  def forward(self, x):\n",
        "    linear = sum(x_i * w_i for x_i, w_i in zip(x, self.weights)) + self.bias\n",
        "    predictions = 1 if linear > 0 else 0\n",
        "    return predictions\n",
        "\n",
        "  def backward(self, x, y):\n",
        "    prediction = self.forward(x)\n",
        "    error = y - prediction\n",
        "    return error\n",
        "\n",
        "  def train(self, x, y, epochs):\n",
        "    for _ in range(epochs):\n",
        "        for i in range(len(y)):\n",
        "            error = self.backward(x[i], y[i])\n",
        "            self.weights = [w + error * x[i][j] for j, w in enumerate(self.weights)]\n",
        "            self.bias += error\n",
        "\n",
        "  def evaluate(self, x, y):\n",
        "    correct = sum(self.forward(x[i]) == y[i] for i in range(len(y)))\n",
        "    return correct / len(y)\n"
      ],
      "metadata": {
        "id": "dsGUda_vmv7i"
      },
      "execution_count": 6,
      "outputs": []
    },
    {
      "cell_type": "code",
      "execution_count": 6,
      "metadata": {
        "id": "Asb6M5M_hOB-"
      },
      "outputs": [],
      "source": []
    },
    {
      "cell_type": "markdown",
      "metadata": {
        "id": "dp_vbnXIhOB-"
      },
      "source": [
        "## Training the Perceptron"
      ]
    },
    {
      "cell_type": "markdown",
      "metadata": {
        "id": "vM8lQIXzhOB-"
      },
      "source": [
        "Here, you are asked to train the perceptron for 5 epochs and print out the Perceptron weight parameters and the value of the bias unit after training.\n",
        "\n",
        "- The code should be relatively similar to the code you've seen in the lecture."
      ]
    },
    {
      "cell_type": "code",
      "execution_count": 7,
      "metadata": {
        "colab": {
          "base_uri": "https://localhost:8080/"
        },
        "id": "vZqz7tYshOB-",
        "outputId": "13beb48d-8c8d-48d3-fde8-8267ed653365"
      },
      "outputs": [
        {
          "output_type": "stream",
          "name": "stdout",
          "text": [
            "Model parameters:\n",
            "\n",
            "\n",
            "  Weights: [1.299999999999999, -0.9000000000000002]\n",
            "\n",
            "  Bias: -3.0\n",
            "\n"
          ]
        }
      ],
      "source": [
        "ppn = Perceptron(num_features=2)\n",
        "\n",
        "ppn.train(X_train, y_train, epochs=5)\n",
        "\n",
        "print('Model parameters:\\n\\n')\n",
        "print('  Weights: %s\\n' % ppn.weights)\n",
        "print('  Bias: %s\\n' % ppn.bias)"
      ]
    },
    {
      "cell_type": "markdown",
      "metadata": {
        "id": "3CMYEStRhOB-"
      },
      "source": [
        "## Evaluating the model"
      ]
    },
    {
      "cell_type": "markdown",
      "metadata": {
        "id": "2I_meNkfhOB-"
      },
      "source": [
        "Compute the prediction accuracy (in percent) for both the training set and the test set."
      ]
    },
    {
      "cell_type": "code",
      "execution_count": 9,
      "metadata": {
        "colab": {
          "base_uri": "https://localhost:8080/"
        },
        "id": "zJUy1X2yhOB-",
        "outputId": "5e154a94-3cc0-45fa-b3b7-d5ad0d6ecdee"
      },
      "outputs": [
        {
          "output_type": "stream",
          "name": "stdout",
          "text": [
            "Train set accuracy: 100.00%\n"
          ]
        }
      ],
      "source": [
        "train_acc = ppn.evaluate(X_train, y_train)\n",
        "print('Train set accuracy: %.2f%%' % (train_acc*100))"
      ]
    },
    {
      "cell_type": "code",
      "execution_count": 10,
      "metadata": {
        "colab": {
          "base_uri": "https://localhost:8080/"
        },
        "id": "yCqjHRfzhOB-",
        "outputId": "1a0668ff-2a67-43a7-c28c-aca635a397d5"
      },
      "outputs": [
        {
          "output_type": "stream",
          "name": "stdout",
          "text": [
            "Test set accuracy: 100.00%\n"
          ]
        }
      ],
      "source": [
        "test_acc = ppn.evaluate(X_test, y_test)\n",
        "print('Test set accuracy: %.2f%%' % (test_acc*100))"
      ]
    },
    {
      "cell_type": "markdown",
      "metadata": {
        "id": "cczzPQxhhOB_"
      },
      "source": [
        "## Decision Boundary"
      ]
    },
    {
      "cell_type": "markdown",
      "metadata": {
        "id": "Ij7C4YHAhOB_"
      },
      "source": [
        "Make 2 scatterplots: 1 for the training dataset and 1 for the test dataset. Draw the respective decision boundaries of the perceptron in each plot (similar to the code example you have seen in the lecture)."
      ]
    },
    {
      "cell_type": "code",
      "execution_count": 38,
      "metadata": {
        "colab": {
          "base_uri": "https://localhost:8080/",
          "height": 564
        },
        "id": "pm43fJ97hOB_",
        "outputId": "6ae4b337-3408-4dc9-81ea-807f6d8d40af"
      },
      "outputs": [
        {
          "output_type": "display_data",
          "data": {
            "text/plain": [
              "<Figure size 1200x600 with 2 Axes>"
            ],
            "image/png": "[encoded data removed]"
          },
          "metadata": {}
        }
      ],
      "source": [
        "##########################\n",
        "### 2D Decision Boundary\n",
        "##########################\n",
        "\n",
        "w, b = ppn.weights, ppn.bias\n",
        "\n",
        "x_min = 1.5\n",
        "y_min = (-(w[0] * x_min) - b) / w[1]\n",
        "\n",
        "x_max = 3\n",
        "y_max = (-(w[0] * x_max) - b) / w[1]\n",
        "\n",
        "fig, ax = plt.subplots(1, 2, sharex=True, figsize=(12, 6))\n",
        "\n",
        "ax[0].plot([x_min, x_max], [y_min, y_max])\n",
        "ax[1].plot([x_min, x_max], [y_min, y_max])\n",
        "\n",
        "\n",
        "\n",
        "\n",
        "ax[0].scatter([i[0] for idx, i in enumerate(X_train) if y_train[idx] == 0],\n",
        "            [i[1] for idx, i in enumerate(X_train) if y_train[idx] == 0],\n",
        "            label='class 0', marker='o')\n",
        "\n",
        "ax[0].scatter([i[0] for idx, i in enumerate(X_train) if y_train[idx] == 1],\n",
        "            [i[1] for idx, i in enumerate(X_train) if y_train[idx] == 1],\n",
        "            label='class 1', marker='s')\n",
        "\n",
        "ax[1].scatter([i[0] for idx, i in enumerate(X_test) if y_test[idx] == 0],\n",
        "            [i[1] for idx, i in enumerate(X_test) if y_test[idx] == 0],\n",
        "            label='class 0', marker='o')\n",
        "\n",
        "ax[1].scatter([i[0] for idx, i in enumerate(X_test) if y_test[idx] == 1],\n",
        "            [i[1] for idx, i in enumerate(X_test) if y_test[idx] == 1],\n",
        "            label='class 1', marker='s')\n",
        "\n",
        "ax[0].set_title('Training set')\n",
        "ax[1].set_title('Testing set')\n",
        "ax[0].set_xlabel('feature 1')\n",
        "ax[0].set_ylabel('feature 2')\n",
        "ax[1].set_xlabel('feature 1')\n",
        "ax[1].set_ylabel('feature 2')\n",
        "ax[1].legend(loc='upper right')\n",
        "plt.show()"
      ]
    },
    {
      "cell_type": "code",
      "source": [],
      "metadata": {
        "id": "Y3Qx8eBOrivv"
      },
      "execution_count": null,
      "outputs": []
    }
  ],
  "metadata": {
    "kernelspec": {
      "display_name": "Python 3",
      "language": "python",
      "name": "python3"
    },
    "language_info": {
      "codemirror_mode": {
        "name": "ipython",
        "version": 3
      },
      "file_extension": ".py",
      "mimetype": "text/x-python",
      "name": "python",
      "nbconvert_exporter": "python",
      "pygments_lexer": "ipython3",
      "version": "3.8.5"
    },
    "toc": {
      "nav_menu": {},
      "number_sections": true,
      "sideBar": true,
      "skip_h1_title": false,
      "title_cell": "Table of Contents",
      "title_sidebar": "Contents",
      "toc_cell": false,
      "toc_position": {},
      "toc_section_display": true,
      "toc_window_display": false
    },
    "colab": {
      "provenance": [],
      "include_colab_link": true
    }
  },
  "nbformat": 4,
  "nbformat_minor": 0
}